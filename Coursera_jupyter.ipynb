{
 "cells": [
  {
   "cell_type": "code",
   "execution_count": 1,
   "id": "6864ca01-a181-4409-8071-47549aea5434",
   "metadata": {},
   "outputs": [
    {
     "name": "stdout",
     "output_type": "stream",
     "text": [
      "Collecting mysql-connector-python\n",
      "  Downloading mysql_connector_python-9.1.0-cp311-cp311-win_amd64.whl.metadata (6.2 kB)\n",
      "Downloading mysql_connector_python-9.1.0-cp311-cp311-win_amd64.whl (16.1 MB)\n",
      "   ---------------------------------------- 0.0/16.1 MB ? eta -:--:--\n",
      "   ---------------------- ----------------- 8.9/16.1 MB 46.0 MB/s eta 0:00:01\n",
      "   ---------------------------------------  16.0/16.1 MB 50.3 MB/s eta 0:00:01\n",
      "   ---------------------------------------- 16.1/16.1 MB 32.6 MB/s eta 0:00:00\n",
      "Installing collected packages: mysql-connector-python\n",
      "Successfully installed mysql-connector-python-9.1.0\n"
     ]
    }
   ],
   "source": [
    "!pip install mysql-connector-python"
   ]
  },
  {
   "cell_type": "code",
   "execution_count": 2,
   "id": "8dd502b3-3b0b-4f27-9dbb-5a336a92e8f3",
   "metadata": {},
   "outputs": [],
   "source": [
    "import mysql.connector as connector"
   ]
  },
  {
   "cell_type": "code",
   "execution_count": 50,
   "id": "153cb8cc-25a3-4ec4-ae8d-5f13c0bd471d",
   "metadata": {},
   "outputs": [],
   "source": [
    "connection = connector.connect(user = \"root\", password = \" \", host=\"localhost\", db = \"littlelemondb\")"
   ]
  },
  {
   "cell_type": "code",
   "execution_count": 51,
   "id": "b554723e-7c56-4426-86f3-b865721d8342",
   "metadata": {},
   "outputs": [
    {
     "name": "stdout",
     "output_type": "stream",
     "text": [
      "Соединение с базой данных успешно установлено!\n"
     ]
    }
   ],
   "source": [
    "if connection.is_connected():\n",
    "    print(\"Соединение с базой данных успешно установлено!\")\n",
    "else:\n",
    "    print(\"Не удалось установить соединение с базой данных.\")"
   ]
  },
  {
   "cell_type": "code",
   "execution_count": 52,
   "id": "3d942348-48ea-4622-8b92-b87b5964b029",
   "metadata": {},
   "outputs": [],
   "source": [
    "cursor = connection.cursor()"
   ]
  },
  {
   "cell_type": "code",
   "execution_count": 40,
   "id": "3aeecea1-edf9-40df-bb7a-b31da43304d0",
   "metadata": {},
   "outputs": [],
   "source": [
    "show_tables_query = \"SHOW tables\" \n",
    "cursor.execute(show_tables_query)\n",
    "results = cursor.fetchall()"
   ]
  },
  {
   "cell_type": "code",
   "execution_count": 41,
   "id": "39e0aeee-02bb-44a7-a296-f8e067aa2420",
   "metadata": {},
   "outputs": [
    {
     "name": "stdout",
     "output_type": "stream",
     "text": [
      "bookings\n",
      "customers\n",
      "menue\n",
      "orderdeliverystatus\n",
      "orderitems\n",
      "orders\n",
      "ordersview\n",
      "staffinformation\n"
     ]
    }
   ],
   "source": [
    "for table in results:\n",
    "        print(table[0])"
   ]
  },
  {
   "cell_type": "code",
   "execution_count": 53,
   "id": "c7bbcab7-e7d5-4d91-acd5-2407cdb72396",
   "metadata": {},
   "outputs": [
    {
     "name": "stdout",
     "output_type": "stream",
     "text": [
      "Customer: Alice Smith, Email: alice.smith@example.com, Phone: 123-456-7890, Total Order Cost: $95.00\n",
      "Customer: Charlie Davis, Email: charlie.davis@example.com, Phone: 345-678-9012, Total Order Cost: $190.00\n",
      "Customer: Bob Johnson, Email: bob.johnson@example.com, Phone: 234-567-8901, Total Order Cost: $75.00\n"
     ]
    }
   ],
   "source": [
    "sql = \"\"\"\n",
    "select c.full_name,c.email, c.contact_number, Total_Price from orders o\n",
    "inner join bookings b on b.booking_id = o.booking_id\n",
    "inner join customers c on c.customer_id= b.customer_id\n",
    "where Total_Price>= 60;\n",
    "\"\"\"\n",
    "cursor.execute(sql)\n",
    "results = cursor.fetchall()\n",
    "for row in results:\n",
    "    print(f\"Customer: {row[0]}, Email: {row[1]}, Phone: {row[2]}, Total Order Cost: ${row[3]}\")\n"
   ]
  },
  {
   "cell_type": "code",
   "execution_count": 54,
   "id": "8bfe9e3f-2870-4c30-8545-310acc957e53",
   "metadata": {},
   "outputs": [],
   "source": [
    "cursor.close()\n",
    "connection.close()"
   ]
  },
  {
   "cell_type": "code",
   "execution_count": null,
   "id": "b35fa27a-d316-473f-b62e-24c0a6ae9d3f",
   "metadata": {},
   "outputs": [],
   "source": []
  }
 ],
 "metadata": {
  "kernelspec": {
   "display_name": "Python 3 (ipykernel)",
   "language": "python",
   "name": "python3"
  },
  "language_info": {
   "codemirror_mode": {
    "name": "ipython",
    "version": 3
   },
   "file_extension": ".py",
   "mimetype": "text/x-python",
   "name": "python",
   "nbconvert_exporter": "python",
   "pygments_lexer": "ipython3",
   "version": "3.11.9"
  }
 },
 "nbformat": 4,
 "nbformat_minor": 5
}
